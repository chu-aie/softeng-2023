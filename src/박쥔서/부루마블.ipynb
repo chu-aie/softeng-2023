import random
#땅가격
land_prices = {'타이페이': 150, '베이징': 200, '마닐라': 220, '제주도': 180, '싱가폴': 300, '카이로': 250, 
               '이스탄불': 200, '아테네': 200, '코펜하겐': 300, '스톡홀름': 280,'콩코드여객기': 330, '베른': 200, '베를린': 350, '오타와': 150, 
               '부에노스아이레스': 220, '상파올루': 320, '시드니': 250, '부산': 200, '하와이': 180, '리스본': 150, '퀸엘리자베스': 200, '마드리드': 250, 
               '도쿄': 350,'콜롬비아호': 200 ,'파리': 300, '로마': 250, '런던': 400, '뉴욕': 450, '서울': 200}    
#보드
board = ['시작','타이페이','황금열쇠1','베이징','마닐라','제주도','황금열쇠2','싱가폴','카이로','이스탄불',
'무인도','아테네','황금열쇠3','코펜하겐','스톡홀름','콩코드여객기','베른','황금열쇠4','베를린','오타와', 
'사회복지기금수령처','부에노스아이레스','황금열쇠5','상파올루','시드니','부산','하와이','리스본','퀸엘리자베스','마드리드', 
'우주여행','도쿄','콜롬비아호','파리','로마','황금열쇠6','런던','뉴욕','사회복지기금접수처','서울']

#플레이어
p1 = {'이름': 'p1','소지금': 1000, '소유지':[], '현위치': '시작'}
p2 = {'이름': 'p2','소지금': 1000, '소유지':[], '현위치': '시작'}
p3 = {'이름': 'p3','소지금': 1000, '소유지':[], '현위치': '시작'}
p4 = {'이름': 'p4','소지금': 1000, '소유지':[], '현위치': '시작'}
player= [p1,p2,p3,p4]
#턴
turn = 1
#턴에 맞는 플레이어
p = player[(len(player) - 1+turn)%len(player)]
#플레이어 탈락
def remove_player(): 
    if p1['소지금'] <= 0 and p1 in player:
        player.remove(p1)
    if p2['소지금'] <= 0 and p2 in player:
        player.remove(p2)
    if p3['소지금'] <= 0 and p3 in player:
        player.remove(p3)
    if p4['소지금'] <= 0 and p4 in player:
        player.remove(p4)
    else:
        pass

#주사위
def roll():
    global here
    dice1 = random.randint(1, 6)  # 1~6 사이의 랜덤 값
    dice2 = random.randint(1, 6)
    
    if dice1 == dice2:
        dice3 = random.randint(1, 6)
        dice4 = random.randint(1, 6)
        total = dice1 + dice2 + dice3 + dice4 
    else:
        total = dice1 + dice2
        
    result = (board.index(p['현위치'])+total+40)%40
    here = board[result]
    input("Press Enter to roll the first dice.")
    print(dice1)
    input("Press Enter to roll the second dice.")
    print(dice2)
    if dice1 == dice2:
        input("Press Enter to roll the third dice.")
        print(dice3)
        input("Press Enter to roll the fourth dice.")
        print(dice4)  

    #월급
    if turn >4:
        if board.index(p['현위치']) > result:
            p['소지금'] = p['소지금'] + 200
            print(p['이름'] + "님이 월급을 받았습니다.\n" + p['이름'] + '님의' '소지금', p['소지금'])
            input('확인')
        else:
            pass   
    print(here,land_prices.get(here, 0))
    p['현위치'] = here
#통행
def toll():
    for o in player:
        if here in o['소유지'] and here not in p['소유지']:
                print(p['이름'] + '님이 ' + o['이름'] + '님에게 ' + str(land_prices.get(here, 0)) + '의 통행료를 냅니다.')
                input('확인')
                p['소지금'] = p['소지금'] - land_prices.get(here, 0)
                o['소지금'] = o['소지금'] + land_prices.get(here, 0)
        else:
            pass

#건설
def build_building():
    global land_prices
    global villa
    global building
    global hotel
    global con
    con = {'villa':[], 'building':['제주도'], 'hotel':[]}
    if here in p["소유지"]:
        if here in con['villa']:
            print('빌딩을 세우시겠습니까?')
            erection = int(input('1.예 2.아니오'))
            if erection == 1:
                p['소지금'] = p['소지금'] -30
                land_prices[here] = land_prices[here] + 45
                con['building'].append(here)
                del con['villa'][con['villa'].index(here)]
                print(land_prices[here])
            else:
                pass
        elif here in con['building']:
            print('호텔을 세우시겠습니까?')
            erection = int(input('1.예 2.아니오'))
            if erection == 1:
                p['소지금'] = p['소지금'] -50
                land_prices[here] = land_prices[here] + 75
                con['hotel'].append(here)
                del con['building'][con['building'].index(here)]
                print(land_prices[here])
            else:
                pass    
        elif here in con['hotel']:    
            pass
        else:
            print('건물을 세우시겠습니까?')
            erection = int(input('1.별장 /2.빌딩 /그 이외.아니오'))
            if erection == 1: 
                p['소지금'] = p['소지금'] -15
                land_prices[here] = land_prices[here] + 15
                con['villa'].append(here)
                print(land_prices[here])
            elif erection == 2:  
                p['소지금'] = p['소지금'] - 45
                land_prices[here] = land_prices[here] + 45
                con['building'].append(here)
                print(land_prices[here])
            else:
                pass
