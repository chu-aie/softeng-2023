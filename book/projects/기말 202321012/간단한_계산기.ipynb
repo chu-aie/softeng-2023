{
  "cells": [
    {
      "cell_type": "markdown",
      "metadata": {},
      "source": [
        "## 간단한 계산기\n"
      ]
    },
    {
      "cell_type": "code",
      "execution_count": 1,
      "metadata": {
        "colab": {
          "base_uri": "https://localhost:8080/"
        },
        "id": "22lnAZCoPg58",
        "outputId": "7576edcb-9cc9-46a2-c6f1-d4a83961c699"
      },
      "outputs": [
        {
          "name": "stdout",
          "output_type": "stream",
          "text": [
            "간단한 계산기 프로그램입니다.\n",
            "사칙연산을 선택하세요:\n",
            "1. 더하기\n",
            "2. 빼기\n",
            "3. 곱하기\n",
            "4. 나누기\n",
            "선택(1/2/3/4 중 하나를 선택하세요): 2\n",
            "첫 번째 숫자를 입력하세요: 3\n",
            "두 번째 숫자를 입력하세요: 2\n",
            "3.0 - 2.0 = 1.0\n"
          ]
        }
      ],
      "source": [
        "# 덧셈 함수\n",
        "def add(x, y):\n",
        "    return x + y\n",
        "\n",
        "# 뺄셈 함수\n",
        "def subtract(x, y):\n",
        "    return x - \n",
        "\n",
        "# 곱셈 함수\n",
        "def multiply(x, y):\n",
        "    return x * y\n",
        "\n",
        "# 나눗셈 함수\n",
        "def divide(x, y):\n",
        "    if y == 0:\n",
        "        return \"0으로 나눌 수 없습니다.\"\n",
        "    return x / y\n",
        "\n",
        "print(\"간단한 계산기 프로그램입니다.\")\n",
        "print(\"사칙연산을 선택하세요:\")\n",
        "print(\"1. 더하기\")\n",
        "print(\"2. 빼기\")\n",
        "print(\"3. 곱하기\")\n",
        "print(\"4. 나누기\")\n",
        "\n",
        "# 사용자로부터 연산 선택 받기\n",
        "choice = input(\"선택(1/2/3/4 중 하나를 선택하세요): \")\n",
        "\n",
        "# 숫자 입력 받기\n",
        "num1 = float(input(\"첫 번째 숫자를 입력하세요: \"))\n",
        "num2 = float(input(\"두 번째 숫자를 입력하세요: \"))\n",
        "\n",
        "# 선택한 연산에 따라 계산하고 결과 출력하기\n",
        "if choice == '1':\n",
        "    print(num1, \"+\", num2, \"=\", add(num1, num2))\n",
        "elif choice == '2':\n",
        "    print(num1, \"-\", num2, \"=\", subtract(num1, num2))\n",
        "elif choice == '3':\n",
        "    print(num1, \"*\", num2, \"=\", multiply(num1, num2))\n",
        "elif choice == '4':\n",
        "    print(num1, \"/\", num2, \"=\", divide(num1, num2))\n",
        "else:\n",
        "    print(\"잘못된 입력입니다. 1부터 4까지의 숫자 중 하나를 선택하세요.\")\n"
      ]
    },
    {
      "cell_type": "code",
      "execution_count": null,
      "metadata": {
        "id": "3adeVdgwPh1L"
      },
      "outputs": [],
      "source": []
    }
  ],
  "metadata": {
    "colab": {
      "provenance": []
    },
    "kernelspec": {
      "display_name": "Python 3",
      "name": "python3"
    },
    "language_info": {
      "name": "python"
    }
  },
  "nbformat": 4,
  "nbformat_minor": 0
}
